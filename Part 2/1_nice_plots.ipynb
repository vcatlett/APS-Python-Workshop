{
 "cells": [
  {
   "cell_type": "markdown",
   "metadata": {
    "id": "ljVzkiDWEs9b"
   },
   "source": [
    "# **APS Python Workshop (Part 2)**\n",
    "# **Section 1: Making Nice Plots**\n",
    "# Hosted by Victoria Catlett\n",
    "\n"
   ]
  },
  {
   "cell_type": "markdown",
   "metadata": {
    "id": "AdJJnldGHhWs"
   },
   "source": [
    "## **Step 1**\n",
    "Import the packages you need. First, we `pip install` the packages via the command line (lines starting with a `!` are treated as command line script in notebooks)."
   ]
  },
  {
   "cell_type": "code",
   "execution_count": null,
   "metadata": {},
   "outputs": [],
   "source": [
    "!pip install numpy matplotlib"
   ]
  },
  {
   "cell_type": "markdown",
   "metadata": {},
   "source": [
    "Then, we import the packages into our Python code"
   ]
  },
  {
   "cell_type": "code",
   "execution_count": null,
   "metadata": {
    "executionInfo": {
     "elapsed": 12,
     "status": "ok",
     "timestamp": 1655997302282,
     "user": {
      "displayName": "Victoria Catlett",
      "userId": "05861347801467453085"
     },
     "user_tz": 240
    },
    "id": "C1TzNe2jFSy-"
   },
   "outputs": [],
   "source": [
    "import numpy as np\n",
    "import matplotlib.pyplot as plt"
   ]
  },
  {
   "cell_type": "markdown",
   "metadata": {},
   "source": [
    "This extra line is needed to render plots in the notebook. It is not needed in scripts. "
   ]
  },
  {
   "cell_type": "code",
   "execution_count": null,
   "metadata": {},
   "outputs": [],
   "source": [
    "%matplotlib inline"
   ]
  },
  {
   "cell_type": "markdown",
   "metadata": {
    "id": "isiFRldQIYNy"
   },
   "source": [
    "## **Step 2**\n",
    "Make some data to plot"
   ]
  },
  {
   "cell_type": "code",
   "execution_count": null,
   "metadata": {
    "executionInfo": {
     "elapsed": 128,
     "status": "ok",
     "timestamp": 1655998439609,
     "user": {
      "displayName": "Victoria Catlett",
      "userId": "05861347801467453085"
     },
     "user_tz": 240
    },
    "id": "w4LQaYI8LMQB"
   },
   "outputs": [],
   "source": [
    "x = np.linspace(-2, 2, 100)\n",
    "y1 = [xi**2 for xi in x]\n",
    "y2 = [abs(xi) for xi in x]\n",
    "y3 = [(1/3)*xi**3 for xi in x]"
   ]
  },
  {
   "cell_type": "markdown",
   "metadata": {
    "id": "MCo0v6kUIele"
   },
   "source": [
    "## **Step 3**\n",
    "Plot all 3 curves on one figure"
   ]
  },
  {
   "cell_type": "code",
   "execution_count": null,
   "metadata": {
    "colab": {
     "base_uri": "https://localhost:8080/",
     "height": 282
    },
    "executionInfo": {
     "elapsed": 428,
     "status": "ok",
     "timestamp": 1655998440876,
     "user": {
      "displayName": "Victoria Catlett",
      "userId": "05861347801467453085"
     },
     "user_tz": 240
    },
    "id": "I9Cb43XyLmDh",
    "outputId": "8af25f6a-8d44-41c1-efca-add2c3791506"
   },
   "outputs": [],
   "source": [
    "plt.figure()\n",
    "plt.plot(x, y1)\n",
    "plt.plot(x, y2)\n",
    "plt.plot(x, y3)"
   ]
  },
  {
   "cell_type": "markdown",
   "metadata": {
    "id": "Wbk6Jja2Iewd"
   },
   "source": [
    "## **Step 4**\n",
    "Add more information"
   ]
  },
  {
   "cell_type": "code",
   "execution_count": null,
   "metadata": {
    "colab": {
     "base_uri": "https://localhost:8080/",
     "height": 282
    },
    "executionInfo": {
     "elapsed": 346,
     "status": "ok",
     "timestamp": 1655998450449,
     "user": {
      "displayName": "Victoria Catlett",
      "userId": "05861347801467453085"
     },
     "user_tz": 240
    },
    "id": "iUFRz6b2MVDi",
    "outputId": "cf3e2f1f-125d-4926-b044-1ecbe77a282c"
   },
   "outputs": [],
   "source": [
    "plt.figure()\n",
    "plt.plot(x, y1)\n",
    "plt.plot(x, y2)\n",
    "plt.plot(x, y3)\n",
    "\n",
    "# Change the colors\n",
    "# Add axis labels\n",
    "# Add a title\n",
    "# Add a legend"
   ]
  },
  {
   "cell_type": "markdown",
   "metadata": {
    "id": "OHKQ-9wBIe3T"
   },
   "source": [
    "## **Step 5**\n",
    "Plotting on 3 subplots"
   ]
  },
  {
   "cell_type": "code",
   "execution_count": null,
   "metadata": {
    "colab": {
     "base_uri": "https://localhost:8080/",
     "height": 283
    },
    "executionInfo": {
     "elapsed": 748,
     "status": "ok",
     "timestamp": 1655998555008,
     "user": {
      "displayName": "Victoria Catlett",
      "userId": "05861347801467453085"
     },
     "user_tz": 240
    },
    "id": "w8YgAd2XM3zC",
    "outputId": "f6d129be-c6e1-4b1b-c75d-ba4a2458f938"
   },
   "outputs": [],
   "source": [
    "fig, ax = plt.subplots(3, sharex=True)\n",
    "ax[0].plot(x, y1)\n",
    "# Plot y2\n",
    "# Plot y3"
   ]
  },
  {
   "cell_type": "markdown",
   "metadata": {
    "id": "GqTPyqFdNONK"
   },
   "source": [
    "## **Step 6**\n",
    "Save the second figure as an image"
   ]
  },
  {
   "cell_type": "code",
   "execution_count": null,
   "metadata": {
    "colab": {
     "base_uri": "https://localhost:8080/",
     "height": 348
    },
    "executionInfo": {
     "elapsed": 505,
     "status": "error",
     "timestamp": 1655998627468,
     "user": {
      "displayName": "Victoria Catlett",
      "userId": "05861347801467453085"
     },
     "user_tz": 240
    },
    "id": "d6acBYu6M_1b",
    "outputId": "b6c6f3eb-2a77-4a40-8c1d-94e7d64dc9af"
   },
   "outputs": [],
   "source": [
    "plt.savefig(\"my_figure.png\")"
   ]
  },
  {
   "cell_type": "markdown",
   "metadata": {},
   "source": [
    "If you're using Google Colab, you then have to download the file to your computer"
   ]
  },
  {
   "cell_type": "code",
   "execution_count": null,
   "metadata": {},
   "outputs": [],
   "source": [
    "from google.colab import files\n",
    "files.download(\"my_figure.png\") "
   ]
  },
  {
   "cell_type": "markdown",
   "metadata": {
    "id": "t1dk5KLKNnFh"
   },
   "source": [
    "# **Task 1.1**\n",
    "* Complete the code below to have y values coming from the function $y = 3x^2 + 7$. \n",
    "* Plot the function\n",
    "* Make the plot look nice\n",
    "* Save the figure"
   ]
  },
  {
   "cell_type": "code",
   "execution_count": null,
   "metadata": {
    "colab": {
     "base_uri": "https://localhost:8080/",
     "height": 132
    },
    "executionInfo": {
     "elapsed": 141,
     "status": "error",
     "timestamp": 1655998825162,
     "user": {
      "displayName": "Victoria Catlett",
      "userId": "05861347801467453085"
     },
     "user_tz": 240
    },
    "id": "StzLZbU5OEHN",
    "outputId": "6a7c5d68-5310-453b-8530-3dc2218acb86"
   },
   "outputs": [],
   "source": [
    "my_x = np.linspace(-10, 10, 50)\n",
    "\n",
    "def my_func(x):\n",
    "    \n",
    "    # What goes here?\n",
    "\n",
    "my_y = my_func(my_x)\n",
    "\n",
    "# Your plotting code here"
   ]
  }
 ],
 "metadata": {
  "colab": {
   "authorship_tag": "ABX9TyOt/ghq0zyzv8SoUNebfsKE",
   "collapsed_sections": [],
   "name": "1_nice_plots.ipynb",
   "provenance": []
  },
  "kernelspec": {
   "display_name": "Python 3 (ipykernel)",
   "language": "python",
   "name": "python3"
  },
  "language_info": {
   "codemirror_mode": {
    "name": "ipython",
    "version": 3
   },
   "file_extension": ".py",
   "mimetype": "text/x-python",
   "name": "python",
   "nbconvert_exporter": "python",
   "pygments_lexer": "ipython3",
   "version": "3.12.1"
  }
 },
 "nbformat": 4,
 "nbformat_minor": 1
}
