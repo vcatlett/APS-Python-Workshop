{
 "cells": [
  {
   "cell_type": "code",
   "execution_count": null,
   "id": "6520f006",
   "metadata": {},
   "outputs": [],
   "source": [
    "# Adapted from: https://gist.github.com/SamratSahoo/cef04a39a4033f7bec0299a10701eb95"
   ]
  },
  {
   "cell_type": "code",
   "execution_count": null,
   "id": "f3117bf6",
   "metadata": {},
   "outputs": [],
   "source": [
    "import matplotlib.pyplot as plt\n",
    "import numpy as np\n",
    "import cv2\n",
    "from PIL import Image\n",
    "import requests\n",
    "from io import BytesIO"
   ]
  },
  {
   "cell_type": "code",
   "execution_count": null,
   "id": "d61cb3bb",
   "metadata": {},
   "outputs": [],
   "source": [
    "# This function will let us standardize out image inputs\n",
    "def processImage(image, rgb=False, scale=1): \n",
    "    # make it grayscale\n",
    "    if rgb:\n",
    "        image = cv2.cvtColor(src=image, code=cv2.COLOR_BGR2GRAY) \n",
    "    # resize it\n",
    "    image= cv2.resize(image, (0,0), fx = scale, fy = scale)\n",
    "    return image"
   ]
  },
  {
   "cell_type": "code",
   "execution_count": null,
   "id": "7e68928f",
   "metadata": {},
   "outputs": [],
   "source": [
    "# This function will do our convolution\n",
    "def convolve2D(image, kernel, padding=0, strides=1):\n",
    "    # Cross Correlation\n",
    "    kernel = np.flipud(np.fliplr(kernel))\n",
    "\n",
    "    # Gather Shapes of Kernel + Image + Padding\n",
    "    xKernShape = kernel.shape[0]\n",
    "    yKernShape = kernel.shape[1]\n",
    "    xImgShape = image.shape[0]\n",
    "    yImgShape = image.shape[1]\n",
    "\n",
    "    # Shape of Output Convolution\n",
    "    xOutput = int(((xImgShape - xKernShape + 2 * padding) / strides) + 1)\n",
    "    yOutput = int(((yImgShape - yKernShape + 2 * padding) / strides) + 1)\n",
    "    output = np.zeros((xOutput, yOutput))\n",
    "\n",
    "    # Apply Equal Padding to All Sides\n",
    "    if padding != 0:\n",
    "        imagePadded = np.zeros((image.shape[0] + padding*2, image.shape[1] + padding*2))\n",
    "        imagePadded[int(padding):int(-1 * padding), int(padding):int(-1 * padding)] = image\n",
    "        print(imagePadded)\n",
    "    else:\n",
    "        imagePadded = image\n",
    "\n",
    "    # Iterate through image\n",
    "    for y in range(image.shape[1]):\n",
    "        # Exit Convolution\n",
    "        if y > image.shape[1] - yKernShape:\n",
    "            break\n",
    "        # Only Convolve if y has gone down by the specified Strides\n",
    "        if y % strides == 0:\n",
    "            for x in range(image.shape[0]):\n",
    "                # Go to next row once kernel is out of bounds\n",
    "                if x > image.shape[0] - xKernShape:\n",
    "                    break\n",
    "                try:\n",
    "                    # Only Convolve if x has moved by the specified Strides\n",
    "                    if x % strides == 0:\n",
    "                        output[x, y] = (kernel * imagePadded[x: x + xKernShape, y: y + yKernShape]).sum()\n",
    "                except:\n",
    "                    break\n",
    "\n",
    "    return output"
   ]
  },
  {
   "cell_type": "code",
   "execution_count": null,
   "id": "f47f8fb6",
   "metadata": {},
   "outputs": [],
   "source": [
    "# Open the images\n",
    "reber_url = 'https://github.com/vcatlett-nrao/APS-Python-Workshop/blob/main/Part%202/Data/reber.jpg?raw=true'\n",
    "gbt_url = 'https://github.com/vcatlett-nrao/APS-Python-Workshop/blob/main/Part%202/Data/GBT.png?raw=true'\n",
    "\n",
    "reber_response = requests.get(reber_url)\n",
    "gbt_response = requests.get(gbt_url)\n",
    "\n",
    "reber_img = np.asarray(Image.open(BytesIO(reber_response.content)))\n",
    "gbt_img = np.asarray(Image.open(BytesIO(gbt_response.content)))\n",
    "\n",
    "reber_data = processImage(reber_img, scale=0.5, rgb=True)\n",
    "gbt_data = processImage(gbt_img, scale=0.5, rgb=True)"
   ]
  },
  {
   "cell_type": "code",
   "execution_count": null,
   "id": "93162d22",
   "metadata": {},
   "outputs": [],
   "source": [
    "# Plot the images\n",
    "fig, ax = plt.subplots(nrows=1, ncols=2)\n",
    "\n",
    "cax=ax[0]\n",
    "cax.imshow(reber_data, cmap='gray')\n",
    "\n",
    "cax=ax[1]\n",
    "cax.imshow(gbt_data, cmap='gray')\n",
    "\n",
    "plt.suptitle(\"Which of these is the GBT?\")\n",
    "\n",
    "plt.show()"
   ]
  },
  {
   "cell_type": "code",
   "execution_count": null,
   "id": "f2bfb970",
   "metadata": {},
   "outputs": [],
   "source": [
    "# Make the kernel\n",
    "\n",
    "# Open the image\n",
    "k_url = 'https://github.com/vcatlett-nrao/APS-Python-Workshop/blob/main/data/logo.png?raw=true'\n",
    "k_response = requests.get(k_url)\n",
    "img = np.asarray(Image.open(BytesIO(k_response.content)))\n",
    "k_data = processImage(img, scale=0.5)\n",
    "\n",
    "# Make it pure black (0) and white (1)\n",
    "logo_kernel = np.zeros(np.shape(k_data))\n",
    "for i in range(np.shape(k_data)[0]):\n",
    "    for j in range(np.shape(k_data)[1]):\n",
    "        if k_data[i][j] < 1:\n",
    "            logo_kernel[i][j] = 1\n",
    "            \n",
    "# Let's see what that looks like\n",
    "fig, ax = plt.subplots(nrows=1, ncols=2)\n",
    "ax[0].imshow(k_data, cmap='gray')\n",
    "ax[1].imshow(logo_kernel, cmap='gray')\n",
    "plt.show()"
   ]
  },
  {
   "cell_type": "code",
   "execution_count": null,
   "id": "dfbb060a",
   "metadata": {},
   "outputs": [],
   "source": [
    "# Let's do the convolution\n",
    "reber_conv = convolve2D(reber_data, k_data)\n",
    "gbt_conv = convolve2D(gbt_data, k_data)"
   ]
  },
  {
   "cell_type": "code",
   "execution_count": null,
   "id": "adac3865",
   "metadata": {},
   "outputs": [],
   "source": [
    "# Let's see what that looks like\n",
    "fig, ax = plt.subplots(nrows=2, ncols=2)\n",
    "ax[0][0].imshow(reber_data, cmap='gray')\n",
    "ax[1][0].imshow(reber_conv, cmap='gray')\n",
    "ax[0][1].imshow(gbt_data, cmap='gray')\n",
    "ax[1][1].imshow(gbt_conv, cmap='gray')\n",
    "plt.show()"
   ]
  },
  {
   "cell_type": "code",
   "execution_count": null,
   "id": "1a5a18e4",
   "metadata": {},
   "outputs": [],
   "source": []
  }
 ],
 "metadata": {
  "kernelspec": {
   "display_name": "Python 3 (ipykernel)",
   "language": "python",
   "name": "python3"
  },
  "language_info": {
   "codemirror_mode": {
    "name": "ipython",
    "version": 3
   },
   "file_extension": ".py",
   "mimetype": "text/x-python",
   "name": "python",
   "nbconvert_exporter": "python",
   "pygments_lexer": "ipython3",
   "version": "3.7.11"
  }
 },
 "nbformat": 4,
 "nbformat_minor": 5
}
