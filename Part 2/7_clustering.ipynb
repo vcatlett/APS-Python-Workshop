{
 "cells": [
  {
   "cell_type": "markdown",
   "metadata": {},
   "source": [
    "# **APS Python Workshop (Part 2)**\n",
    "# **Section 7: Clustering**\n",
    "# Hosted by Victoria Catlett\n",
    "This example is adapted from this: https://towardsdatascience.com/k-means-clustering-with-scikit-learn-6b47a369a83c"
   ]
  },
  {
   "cell_type": "code",
   "execution_count": null,
   "metadata": {
    "id": "2khU95HmuK7h"
   },
   "outputs": [],
   "source": [
    "# Import the packages you need\n",
    "import matplotlib.pyplot as plt\n",
    "from sklearn.datasets import make_blobs\n",
    "from sklearn.cluster import KMeans\n",
    "%matplotlib inline"
   ]
  },
  {
   "cell_type": "code",
   "execution_count": null,
   "metadata": {
    "colab": {
     "base_uri": "https://localhost:8080/",
     "height": 265
    },
    "executionInfo": {
     "elapsed": 291,
     "status": "ok",
     "timestamp": 1659630779960,
     "user": {
      "displayName": "Victoria Catlett",
      "userId": "05861347801467453085"
     },
     "user_tz": 240
    },
    "id": "zosmavJ0sR_r",
    "outputId": "93095360-2174-4507-8804-18e0bc7ede46"
   },
   "outputs": [],
   "source": [
    "# Make data consisting of 150 points in 3 clusters\n",
    "X, Y = make_blobs(n_samples=150, centers=3, cluster_std=0.5, shuffle=True, random_state=0)\n",
    "\n",
    "# Plot the data\n",
    "plt.scatter(X[:, 0], X[:, 1])\n",
    "plt.show()"
   ]
  },
  {
   "cell_type": "code",
   "execution_count": null,
   "metadata": {
    "executionInfo": {
     "elapsed": 536,
     "status": "ok",
     "timestamp": 1659630835016,
     "user": {
      "displayName": "Victoria Catlett",
      "userId": "05861347801467453085"
     },
     "user_tz": 240
    },
    "id": "u717vbWoslDZ"
   },
   "outputs": [],
   "source": [
    "# Run the K means algorithm\n",
    "# Start off using kwarg values suggested in documentation \n",
    "km = KMeans(n_clusters=3, init='random', n_init=10, max_iter=300, tol=1e-04, random_state=0)\n",
    "y_km = km.fit_predict(X)"
   ]
  },
  {
   "cell_type": "code",
   "execution_count": null,
   "metadata": {
    "colab": {
     "base_uri": "https://localhost:8080/",
     "height": 265
    },
    "executionInfo": {
     "elapsed": 504,
     "status": "ok",
     "timestamp": 1659631074305,
     "user": {
      "displayName": "Victoria Catlett",
      "userId": "05861347801467453085"
     },
     "user_tz": 240
    },
    "id": "T91Wf0ddtNEL",
    "outputId": "ac25471a-6dbd-41ce-e6aa-2cb1a400da0b"
   },
   "outputs": [],
   "source": [
    "# Plot the 3 clusters\n",
    "plt.figure()\n",
    "\n",
    "plot_colors = ['red', 'green', 'blue']\n",
    "for i in range(3):\n",
    "  plt.scatter(X[y_km == i, 0], X[y_km == i, 1],s=50, c=plot_colors[i], label='Cluster %i'%(i+1))\n",
    "\n",
    "# Plot the cluster centers\n",
    "plt.scatter(km.cluster_centers_[:, 0], km.cluster_centers_[:, 1],s=250, marker='*',c='yellow', edgecolor='black',label='centroids')\n",
    "plt.legend(loc='lower left')\n",
    "plt.show()"
   ]
  }
 ],
 "metadata": {
  "colab": {
   "authorship_tag": "ABX9TyNrRCQh90u+ITUcMbRxxHS9",
   "name": "clustering.ipynb",
   "provenance": []
  },
  "kernelspec": {
   "display_name": "Python 3 (ipykernel)",
   "language": "python",
   "name": "python3"
  },
  "language_info": {
   "codemirror_mode": {
    "name": "ipython",
    "version": 3
   },
   "file_extension": ".py",
   "mimetype": "text/x-python",
   "name": "python",
   "nbconvert_exporter": "python",
   "pygments_lexer": "ipython3",
   "version": "3.7.11"
  }
 },
 "nbformat": 4,
 "nbformat_minor": 1
}
