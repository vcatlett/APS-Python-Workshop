{
 "cells": [
  {
   "cell_type": "markdown",
   "metadata": {},
   "source": [
    "# **APS Python Workshop (Part 2)**\n",
    "# **Section 4: Introduction to Image Data**\n",
    "# Hosted by Victoria Catlett"
   ]
  },
  {
   "cell_type": "markdown",
   "metadata": {
    "id": "frrAoFBsHc_C"
   },
   "source": [
    "## **Step 1**\n",
    "Import the packages you need"
   ]
  },
  {
   "cell_type": "code",
   "execution_count": null,
   "metadata": {
    "id": "GTRRQ8HMFha3"
   },
   "outputs": [],
   "source": [
    "import matplotlib.pyplot as plt\n",
    "import matplotlib.image as mpimg\n",
    "import numpy as np\n",
    "%matplotlib inline"
   ]
  },
  {
   "cell_type": "markdown",
   "metadata": {
    "id": "isiFRldQIYNy"
   },
   "source": [
    "## **Step 2**\n",
    "Plot an array as an image"
   ]
  },
  {
   "cell_type": "code",
   "execution_count": null,
   "metadata": {
    "colab": {
     "base_uri": "https://localhost:8080/",
     "height": 287
    },
    "executionInfo": {
     "elapsed": 154,
     "status": "ok",
     "timestamp": 1656001624789,
     "user": {
      "displayName": "Victoria Catlett",
      "userId": "05861347801467453085"
     },
     "user_tz": 240
    },
    "id": "v_K-lQWEQBCr",
    "outputId": "b7c53320-6af4-4694-b6cd-a4db880ff4b6"
   },
   "outputs": [],
   "source": [
    "array1 = [[1,0,0],[0,1,0],[0,0,1]]\n",
    "plt.imshow(array1)"
   ]
  },
  {
   "cell_type": "markdown",
   "metadata": {
    "id": "-dnyYSrOIsDA"
   },
   "source": [
    "## **Step 3**\n",
    "Use a ```Colormap``` on the image to know what each color is"
   ]
  },
  {
   "cell_type": "code",
   "execution_count": null,
   "metadata": {
    "colab": {
     "base_uri": "https://localhost:8080/",
     "height": 286
    },
    "executionInfo": {
     "elapsed": 404,
     "status": "ok",
     "timestamp": 1655999450776,
     "user": {
      "displayName": "Victoria Catlett",
      "userId": "05861347801467453085"
     },
     "user_tz": 240
    },
    "id": "K-7_B9dTQgyy",
    "outputId": "90bc9739-687e-48a3-a7bd-d1d96dc471dd"
   },
   "outputs": [],
   "source": [
    "plt.imshow(array1, cmap='gray')\n",
    "plt.colorbar()"
   ]
  },
  {
   "cell_type": "markdown",
   "metadata": {
    "id": "aE8u95stIsKe"
   },
   "source": [
    "## **Step 4**\n",
    "Plot an RGB image from 3 arrays, the entries of which have values of 0-255"
   ]
  },
  {
   "cell_type": "code",
   "execution_count": null,
   "metadata": {
    "colab": {
     "base_uri": "https://localhost:8080/",
     "height": 286
    },
    "executionInfo": {
     "elapsed": 255,
     "status": "ok",
     "timestamp": 1655999801320,
     "user": {
      "displayName": "Victoria Catlett",
      "userId": "05861347801467453085"
     },
     "user_tz": 240
    },
    "id": "mv9ImXvKQr0U",
    "outputId": "5bbd5971-dde1-44fb-c215-37fbe7ea7452"
   },
   "outputs": [],
   "source": [
    "img_r = [[100,0,0],[0,100,0],[100,0,100]]\n",
    "img_g = [[100,0,100],[0,100,0],[0,100,100]]\n",
    "img_b = [[100,100,0],[0,100,100],[0,0,100]]\n",
    "plt.imshow([img_r, img_g, img_b])"
   ]
  }
 ],
 "metadata": {
  "colab": {
   "authorship_tag": "ABX9TyMFSN0zG+tHuOcaoHGecH8V",
   "collapsed_sections": [],
   "name": "4_images.ipynb",
   "provenance": []
  },
  "kernelspec": {
   "display_name": "Python 3 (ipykernel)",
   "language": "python",
   "name": "python3"
  },
  "language_info": {
   "codemirror_mode": {
    "name": "ipython",
    "version": 3
   },
   "file_extension": ".py",
   "mimetype": "text/x-python",
   "name": "python",
   "nbconvert_exporter": "python",
   "pygments_lexer": "ipython3",
   "version": "3.7.11"
  }
 },
 "nbformat": 4,
 "nbformat_minor": 1
}
