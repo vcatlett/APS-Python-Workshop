{
 "cells": [
  {
   "cell_type": "markdown",
   "metadata": {
    "id": "3f8iETS_HfgK"
   },
   "source": [
    "## **Step 1**\n",
    "Import the packages you need"
   ]
  },
  {
   "cell_type": "code",
   "execution_count": null,
   "metadata": {
    "executionInfo": {
     "elapsed": 152,
     "status": "ok",
     "timestamp": 1656002283426,
     "user": {
      "displayName": "Victoria Catlett",
      "userId": "05861347801467453085"
     },
     "user_tz": 240
    },
    "id": "8sloeCMBE2mw"
   },
   "outputs": [],
   "source": [
    "import numpy as np\n",
    "import pandas as pd\n",
    "import matplotlib.pyplot as plt\n",
    "from scipy.optimize import curve_fit\n",
    "%matplotlib inline"
   ]
  },
  {
   "cell_type": "markdown",
   "metadata": {
    "id": "isiFRldQIYNy"
   },
   "source": [
    "## **Step 2**\n",
    "Define a function we'll need later"
   ]
  },
  {
   "cell_type": "code",
   "execution_count": null,
   "metadata": {
    "executionInfo": {
     "elapsed": 132,
     "status": "ok",
     "timestamp": 1656002285648,
     "user": {
      "displayName": "Victoria Catlett",
      "userId": "05861347801467453085"
     },
     "user_tz": 240
    },
    "id": "pBX5xoVWOeAX"
   },
   "outputs": [],
   "source": [
    "def mySin(x,a,b):\n",
    "    y = a*np.sin(b*x)\n",
    "    return y"
   ]
  },
  {
   "cell_type": "markdown",
   "metadata": {
    "id": "BxVjEPaYIkW3"
   },
   "source": [
    "## **Step 3**\n",
    "Read in the data using Pandas"
   ]
  },
  {
   "cell_type": "code",
   "execution_count": null,
   "metadata": {
    "executionInfo": {
     "elapsed": 723,
     "status": "ok",
     "timestamp": 1656002288399,
     "user": {
      "displayName": "Victoria Catlett",
      "userId": "05861347801467453085"
     },
     "user_tz": 240
    },
    "id": "38ATY4aWOluH"
   },
   "outputs": [],
   "source": [
    "#data = pd.read_csv('./Data/data_to_fit.csv')\n",
    "url = 'https://github.com/vcatlett-nrao/APS-Python-Workshop/blob/main/Part%202/Data/data_to_fit.csv?raw=true'\n",
    "data = pd.read_csv(url)\n",
    "x = data.x \n",
    "y1 = data['y1']  # Notice that there are two ways of accessing the columns of 'data'"
   ]
  },
  {
   "cell_type": "markdown",
   "metadata": {
    "id": "i-pr_PasIkhJ"
   },
   "source": [
    "## **Step 4**\n",
    "Find a, b, and c of the best-fit mySin function, then plot it."
   ]
  },
  {
   "cell_type": "code",
   "execution_count": null,
   "metadata": {
    "colab": {
     "base_uri": "https://localhost:8080/",
     "height": 316
    },
    "executionInfo": {
     "elapsed": 1735,
     "status": "ok",
     "timestamp": 1656002292343,
     "user": {
      "displayName": "Victoria Catlett",
      "userId": "05861347801467453085"
     },
     "user_tz": 240
    },
    "id": "p7eTTbSaO3qo",
    "outputId": "ed78582f-0916-41ba-bc5d-e9486d22df92"
   },
   "outputs": [],
   "source": [
    "fig, ax = plt.subplots(nrows=2, ncols=1)\n",
    "plt.subplots_adjust(hspace=0.5)\n",
    "ax[0].plot(x, y1, 'k.')\n",
    "ax[0].set_title('Original Data')\n",
    "\n",
    "parameters, cov = curve_fit(mySin, x, y1, p0=[1, 6])\n",
    "a_fit = parameters[0]\n",
    "b_fit = parameters[1]\n",
    "y_fit = mySin(x, a_fit, b_fit)\n",
    "ax[1].plot(x, y_fit, 'k')\n",
    "ax[1].set_title('Fit Sine Curve')\n",
    "\n",
    "print('The fit found y = %0.2f*sin(%0.2f*x)'%(a_fit,b_fit))\n",
    "print('The real answer is y = 0.75*sin(2*pi*x)')"
   ]
  },
  {
   "cell_type": "markdown",
   "metadata": {
    "id": "FCPX7CEjPAhQ"
   },
   "source": [
    "# **Task 2.1**\n",
    "The data file has a second set of y values called ```y2```. Plot ```x``` vs. ```y2```, then fit a Gaussian to the data. "
   ]
  },
  {
   "cell_type": "code",
   "execution_count": null,
   "metadata": {
    "id": "Bjkt-jE_PT4Z"
   },
   "outputs": [],
   "source": [
    "def myGauss(x, mu, sigma):\n",
    "  y = np.exp(-((x-mu)**2)/(2*sigma**2))\n",
    "  return y"
   ]
  },
  {
   "cell_type": "code",
   "execution_count": null,
   "metadata": {
    "id": "Bv5m1DqAPucx"
   },
   "outputs": [],
   "source": [
    "# YOUR CODE HERE"
   ]
  }
 ],
 "metadata": {
  "colab": {
   "authorship_tag": "ABX9TyPbzqqiHgvr1vWNCfp86UpQ",
   "collapsed_sections": [],
   "name": "2_2_fitting_data.ipynb",
   "provenance": []
  },
  "kernelspec": {
   "display_name": "Python 3 (ipykernel)",
   "language": "python",
   "name": "python3"
  },
  "language_info": {
   "codemirror_mode": {
    "name": "ipython",
    "version": 3
   },
   "file_extension": ".py",
   "mimetype": "text/x-python",
   "name": "python",
   "nbconvert_exporter": "python",
   "pygments_lexer": "ipython3",
   "version": "3.7.11"
  }
 },
 "nbformat": 4,
 "nbformat_minor": 1
}
