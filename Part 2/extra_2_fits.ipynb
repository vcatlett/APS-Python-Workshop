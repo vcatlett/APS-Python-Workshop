{
 "cells": [
  {
   "cell_type": "markdown",
   "metadata": {
    "id": "ljVzkiDWEs9b"
   },
   "source": [
    "# **APS Python Workshop (Part 2)**\n",
    "# **Section 4: FITS Images (Astronomy)**\n",
    "# Hosted by Victoria Catlett\n",
    "\n"
   ]
  },
  {
   "cell_type": "markdown",
   "metadata": {
    "id": "hrqDWhN-HTbw"
   },
   "source": [
    "## **Step 1**\n",
    "Import the packages you need"
   ]
  },
  {
   "cell_type": "code",
   "execution_count": null,
   "metadata": {
    "id": "GTRRQ8HMFha3"
   },
   "outputs": [],
   "source": [
    "import matplotlib.pyplot as plt\n",
    "from astropy.io import fits\n",
    "from astropy.visualization import make_lupton_rgb\n",
    "%matplotlib inline"
   ]
  },
  {
   "cell_type": "markdown",
   "metadata": {
    "id": "aG9SgyBrG1_g"
   },
   "source": [
    "## **Step 2**\n",
    "Open ```CassiopeiaA.fits``` (in the ```Data``` folder) and see what's inside"
   ]
  },
  {
   "cell_type": "code",
   "execution_count": null,
   "metadata": {
    "colab": {
     "base_uri": "https://localhost:8080/"
    },
    "executionInfo": {
     "elapsed": 359,
     "status": "ok",
     "timestamp": 1656002130648,
     "user": {
      "displayName": "Victoria Catlett",
      "userId": "05861347801467453085"
     },
     "user_tz": 240
    },
    "id": "MJt7TIXtF4b2",
    "outputId": "f913fe23-71ad-4a6e-e551-393e3cf08c96"
   },
   "outputs": [],
   "source": [
    "# allData = fits.open('./Data/CassiopeiaA.fits')\n",
    "url = 'https://github.com/vcatlett-nrao/APS-Python-Workshop/blob/main/Part%202/Data/CassiopeiaA.fits?raw=true'\n",
    "allData = fits.open(url)\n",
    "print(allData.info()) # Comment this out if it prints too much"
   ]
  },
  {
   "cell_type": "markdown",
   "metadata": {
    "id": "5Mh1wu1QHnWN"
   },
   "source": [
    "## **Step 3**\n",
    "Import each of the three HDUs as red, green, and blue channels"
   ]
  },
  {
   "cell_type": "code",
   "execution_count": null,
   "metadata": {
    "executionInfo": {
     "elapsed": 283,
     "status": "ok",
     "timestamp": 1656002154184,
     "user": {
      "displayName": "Victoria Catlett",
      "userId": "05861347801467453085"
     },
     "user_tz": 240
    },
    "id": "-PyQB3xzF9uM"
   },
   "outputs": [],
   "source": [
    "# Access the individual images and headers from allData\n",
    "r1 = allData[0].data\n",
    "rHeader1 = allData[0].header\n",
    "\n",
    "g1 = allData[1].data\n",
    "gHeader1 = allData[1].header\n",
    "\n",
    "b1 = allData[2].data\n",
    "bHeader1 = allData[2].header\n",
    "\n",
    "# Another way: Open them directly from the file\n",
    "r2, rHeader2 = fits.getdata(url, 0, header=True)\n",
    "g2, gHeader2 = fits.getdata(url, 1, header=True)\n",
    "b2, bHeader2 = fits.getdata(url, 2, header=True)"
   ]
  },
  {
   "cell_type": "markdown",
   "metadata": {
    "id": "dmpmXm2gHvNx"
   },
   "source": [
    "## **Step 4**\n",
    "Get more information about the first HDU"
   ]
  },
  {
   "cell_type": "code",
   "execution_count": null,
   "metadata": {
    "id": "VEwbGPHJGVMZ"
   },
   "outputs": [],
   "source": [
    "print(rHeader1) # Comment this out if it prints too much\n",
    "print(r1[0][0]) # Print the value of the upper left (0,0) pixel in the red data"
   ]
  },
  {
   "cell_type": "markdown",
   "metadata": {
    "id": "Fsr8PXfLH7cL"
   },
   "source": [
    "## **Step 5**\n",
    "Plot the \"red\" channel, then save the image"
   ]
  },
  {
   "cell_type": "code",
   "execution_count": null,
   "metadata": {
    "id": "x6_GjB9YGZB4"
   },
   "outputs": [],
   "source": [
    "plt.figure()\n",
    "plt.imshow(r1, origin='lower', cmap='gray')\n",
    "plt.colorbar()\n",
    "plt.title('0.5-1.5 keV Data of Cassiopeia A from Chandra X-Ray Telescope')\n",
    "#plt.savefig('../files/CassiopeiaA_red.png')"
   ]
  },
  {
   "cell_type": "markdown",
   "metadata": {
    "id": "bvvB47YwIEEj"
   },
   "source": [
    "## **Step 6**\n",
    "Plot the 3 channels to create an RGB image, then save the image"
   ]
  },
  {
   "cell_type": "code",
   "execution_count": null,
   "metadata": {
    "id": "RovTiKpHGcxW"
   },
   "outputs": [],
   "source": [
    "plt.figure()\n",
    "image = make_lupton_rgb(r1, g1, b1, stretch=50)\n",
    "plt.imshow(image, origin = 'lower')\n",
    "plt.title('3-filter Image of Cassiopeia A from Chandra X-Ray Data')\n",
    "#plt.savefig('./Data/CassiopeiaA_rgb.png')"
   ]
  }
 ],
 "metadata": {
  "colab": {
   "authorship_tag": "ABX9TyO1ax/XqzwzsW9CfTNT3S9E",
   "collapsed_sections": [],
   "name": "2_4_fits.ipynb",
   "provenance": []
  },
  "kernelspec": {
   "display_name": "Python 3 (ipykernel)",
   "language": "python",
   "name": "python3"
  },
  "language_info": {
   "codemirror_mode": {
    "name": "ipython",
    "version": 3
   },
   "file_extension": ".py",
   "mimetype": "text/x-python",
   "name": "python",
   "nbconvert_exporter": "python",
   "pygments_lexer": "ipython3",
   "version": "3.7.11"
  }
 },
 "nbformat": 4,
 "nbformat_minor": 1
}
