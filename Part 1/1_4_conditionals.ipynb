{
  "cells": [
    {
      "cell_type": "markdown",
      "metadata": {
        "id": "iEndi22-l3CI"
      },
      "source": [
        "# **APS Python Workshop (Part 1)**\n",
        "# **Section 4: Conditionals**\n",
        "# Hosted by Victoria Catlett"
      ]
    },
    {
      "cell_type": "markdown",
      "metadata": {
        "id": "XjcqzaDYtgb7"
      },
      "source": [
        "# **If-Else Statements**"
      ]
    },
    {
      "cell_type": "markdown",
      "metadata": {
        "id": "307t4MsEtlWD"
      },
      "source": [
        "An **if-else statement** checks if a condition is True or not, then executes a different block of code accordingly. "
      ]
    },
    {
      "cell_type": "code",
      "execution_count": null,
      "metadata": {
        "colab": {
          "base_uri": "https://localhost:8080/"
        },
        "id": "0s-Jd9HKKu-D",
        "outputId": "42504b06-8f30-4cc1-864d-deaa9c5dc8c5"
      },
      "outputs": [],
      "source": [
        "my_number = 7\n",
        "\n",
        "if my_number > 5:\n",
        "  print('Your number is greater than 5!')\n",
        "elif my_number >= 0:\n",
        "  print('Your number is between 0 and 5 (inclusive)')\n",
        "else:\n",
        "  print('Your number is negative.')"
      ]
    },
    {
      "cell_type": "markdown",
      "metadata": {
        "id": "Fpe1WorxqiHJ"
      },
      "source": [
        "## **Task 1.4.1**\n",
        "* Create a variable called ```my_variable```\n",
        "* Construct an If-Else statement that...\n",
        "  * Prints \"This is a float!\" if ```my_variable``` is a ```float```\n",
        "  * Prints \"This is an integer!\" if ```my_variable``` is an ```integer```\n",
        "  * Prints \"Why didn't you give me a number?\" otherwise\n",
        "\n"
      ]
    },
    {
      "cell_type": "code",
      "execution_count": null,
      "metadata": {
        "id": "qCqnC9Dzl8sK"
      },
      "outputs": [],
      "source": [
        "# YOUR CODE HERE"
      ]
    },
    {
      "cell_type": "markdown",
      "metadata": {
        "id": "4at93WqNtaH6"
      },
      "source": [
        "# **While Loops**"
      ]
    },
    {
      "cell_type": "markdown",
      "metadata": {
        "id": "pqNwkYwjlTwK"
      },
      "source": [
        "A **while loop** will evaluate whatever is inside over and over again while a given condition is true. A while loop is constructed like this:\n",
        "\n",
        ">```while condition:```\n",
        "\n",
        ">>```do this thing```\n",
        "\n",
        ">```code that comes after the loop```\n",
        "    \n",
        "Here are two things you should notice:\n",
        "* We have to pay attention to **indentation** now\n",
        "* If your ```condition``` is always ```True```, the loop will run forever!\n",
        "\n",
        "The cell below will show you how to construct a while loop, and the example will add consecutive numbers until the sum is greater than 10."
      ]
    },
    {
      "cell_type": "code",
      "execution_count": null,
      "metadata": {
        "id": "elq_8wfalUal"
      },
      "outputs": [],
      "source": [
        "current_number = 0 # Start with 0\n",
        "current_sum = 0 # Start with a sum of 0\n",
        "\n",
        "while current_sum < 10:\n",
        "    print('%i + %i = %i'%(current_sum, current_number, current_sum + current_number))\n",
        "    \n",
        "    current_sum = current_sum + current_number # Add the number to the sum\n",
        "    current_number = current_number + 1 # Increase the number by 1\n",
        "\n",
        "# This next line won't execute until the loop is done\n",
        "print(\"The sum is %i, and the last number is %i\"%(current_sum, current_number))"
      ]
    },
    {
      "cell_type": "markdown",
      "metadata": {
        "id": "iDr-aA1rlbGT"
      },
      "source": [
        "It's possible to make a loop that runs forever, which will eventually crash your computer. That's not ideal. To make sure your while loop stops even if you made a mistake, add another stopping condition based on the number of iterations. Consider the example below. It would run forever without the extra stopping condition because ```7 < 8``` is always ```True```."
      ]
    },
    {
      "cell_type": "code",
      "execution_count": null,
      "metadata": {
        "colab": {
          "base_uri": "https://localhost:8080/"
        },
        "id": "X5qyhN82ljAw",
        "outputId": "dc1cec18-47b6-425c-a214-150f6557a995"
      },
      "outputs": [],
      "source": [
        "iteration_max = 1000\n",
        "iteration_count = 0\n",
        "\n",
        "while 7 < 8 and iteration_count < iteration_max:\n",
        "  iteration_count += 1\n",
        "  if iteration_count == iteration_max:\n",
        "    print('WARNING: Maximum number of iterations reached. Loop terminated.')\n"
      ]
    },
    {
      "cell_type": "markdown",
      "metadata": {
        "id": "r3skFEqjrztY"
      },
      "source": [
        "## **Task 1.4.2**\n",
        "* Define a variable ```n``` that equals some integer\n",
        "* Construct a ```while``` loop that multiplies the numbers 1-n\n",
        "* Print the result"
      ]
    },
    {
      "cell_type": "code",
      "execution_count": null,
      "metadata": {
        "id": "MFIcRp2-pdQe"
      },
      "outputs": [],
      "source": [
        "# YOUR CODE HERE"
      ]
    },
    {
      "cell_type": "markdown",
      "metadata": {
        "id": "zd6j_LVRtQ-K"
      },
      "source": [
        "# **For Loops**"
      ]
    },
    {
      "cell_type": "markdown",
      "metadata": {
        "id": "kGNaHnonsOh6"
      },
      "source": [
        "A **for loop** will evaluate a certain number of times before stopping. A for loop is constructed like this:\n",
        "\n",
        "> ```for i in your_list:```\n",
        "\n",
        ">> ```what to do for each i in the list```\n",
        "\n",
        "> ```code that comes after the loop is done```\n",
        "    \n",
        "Unlike a while loop, this will not go on forever. It will only evaluate as many times as the length of your_list. The cell below will show you how to construct a for loop that will add the numbers 1 through 10."
      ]
    },
    {
      "cell_type": "code",
      "execution_count": null,
      "metadata": {
        "colab": {
          "base_uri": "https://localhost:8080/"
        },
        "id": "Sl_M2dySs1aG",
        "outputId": "785dc9a2-f7d1-4444-cf81-1dcd031efd0c"
      },
      "outputs": [],
      "source": [
        "my_sum = 0\n",
        "\n",
        "for i in range(1, 11, 1):\n",
        "    my_sum = my_sum + i\n",
        "    print('%i + %i = %i'%(my_sum, i, my_sum+i))"
      ]
    },
    {
      "cell_type": "code",
      "execution_count": null,
      "metadata": {
        "id": "eEIMM1jOs7oC"
      },
      "outputs": [],
      "source": []
    }
  ],
  "metadata": {
    "colab": {
      "collapsed_sections": [
        "XjcqzaDYtgb7",
        "4at93WqNtaH6",
        "zd6j_LVRtQ-K"
      ],
      "name": "1_4_conditionals.ipynb",
      "provenance": []
    },
    "kernelspec": {
      "display_name": "Python 3",
      "name": "python3"
    },
    "language_info": {
      "name": "python"
    }
  },
  "nbformat": 4,
  "nbformat_minor": 0
}
