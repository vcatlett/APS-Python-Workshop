{
  "cells": [
    {
      "cell_type": "markdown",
      "metadata": {
        "id": "f2HuStWpuaJ4"
      },
      "source": [
        "# **APS Python Workshop (Part 1)**\n",
        "# **Section 1: Syntax**\n",
        "# Hosted by Victoria Catlett"
      ]
    },
    {
      "cell_type": "markdown",
      "metadata": {
        "id": "FQgZ2nsfujsl"
      },
      "source": [
        "# Code Structure"
      ]
    },
    {
      "cell_type": "markdown",
      "metadata": {
        "id": "n3RyGc1CusDt"
      },
      "source": [
        "The structure of a typical Python program looks like this:\n",
        "\n",
        "|            Python Code Structure            |\n",
        "|:-------------------------------------------:|\n",
        "|           A line like #!/bin/bash           |\n",
        "| Comment with license and author information |\n",
        "|               Import packages               |\n",
        "|          Define your own functions          |\n",
        "|        Code that calls the functions        |\n",
        "\n",
        "Most Integrated Development Environments (IDEs) will color-code everything in your program. In Jupyter, for example, words which already exist as something in Python will turn green.\n",
        "\n",
        "*Note: Unlike some languages, you don't need semicolons at the end of every line! However, you do have to pay attention to how you **indent** lines. This will pop up when we start working with functions.*"
      ]
    },
    {
      "cell_type": "markdown",
      "metadata": {
        "id": "wvI-AhwXupot"
      },
      "source": [
        "# Print Statements and Comments"
      ]
    },
    {
      "cell_type": "markdown",
      "metadata": {
        "id": "_ul-ZqBGu60u"
      },
      "source": [
        "Two things to immediately become familiar with are **print statements** and **comments**. They will help you figure out what is happening in your code and make it much easier to read.\n",
        "#### Print Statements\n",
        "```print()``` displays whatever is inside of the parenthesis. You can print multiple things in the same line by separating them with commas. These are very useful to check that everything is working correctly (or to find a problem!). \n",
        "#### Comments\n",
        "Comments are used to annotate code to make it easier to understand. Use a ```#``` sign at the beginning of a line to make a **single-line comment**. Use two sets of triple quotes (```\"\"\"``` or ```'''```) to mark the beginning and end of longer comments (**multi-line comments**). \n",
        "\n",
        "Comments *really* help when sharing your code with others, debugging, and revisiting old code!"
      ]
    },
    {
      "cell_type": "code",
      "execution_count": null,
      "metadata": {
        "colab": {
          "base_uri": "https://localhost:8080/"
        },
        "id": "P5zFcvWucIRK",
        "outputId": "cac8dc4d-d5c5-42e3-e443-a687e8377e92"
      },
      "outputs": [],
      "source": [
        "'''\n",
        "Here's an example of a multi-line comment. It's red!\n",
        "You can type anything you want in your comments. \n",
        "The computer will ignore them when running code.\n",
        "'''\n",
        "\n",
        "# Here's an example of a single-line comment. It's blue!\n",
        "\n",
        "print(\"Great, comments are awesome!\") # Comments can even go after lines of code.\n",
        "\n",
        "# Notice that \"print\" is green, meaning it's a word in Python"
      ]
    },
    {
      "cell_type": "markdown",
      "metadata": {
        "id": "b0dT9jtscqL8"
      },
      "source": [
        "## **Task 1.1.1**\n",
        "\n",
        "* Make a multi-line comment\n",
        "* Print any whole number\n",
        "\n"
      ]
    },
    {
      "cell_type": "code",
      "execution_count": null,
      "metadata": {
        "id": "C5aWqypIckem"
      },
      "outputs": [],
      "source": [
        "# YOUR CODE HERE\n"
      ]
    },
    {
      "cell_type": "code",
      "execution_count": null,
      "metadata": {
        "id": "qIuDRDlUc4hE"
      },
      "outputs": [],
      "source": []
    }
  ],
  "metadata": {
    "colab": {
      "collapsed_sections": [
        "FQgZ2nsfujsl",
        "wvI-AhwXupot"
      ],
      "name": "1_1_syntax.ipynb",
      "provenance": []
    },
    "kernelspec": {
      "display_name": "Python 3",
      "name": "python3"
    },
    "language_info": {
      "name": "python"
    }
  },
  "nbformat": 4,
  "nbformat_minor": 0
}
