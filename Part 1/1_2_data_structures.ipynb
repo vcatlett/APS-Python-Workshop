{
  "cells": [
    {
      "cell_type": "markdown",
      "metadata": {
        "id": "SzPWk52LvMmw"
      },
      "source": [
        "# **APS Python Workshop (Part 1)**\n",
        "# **Section 2: Data Structures**\n",
        "# Hosted by Victoria Catlett"
      ]
    },
    {
      "cell_type": "markdown",
      "metadata": {
        "id": "DwFYG_J2vRR_"
      },
      "source": [
        "# **Variables**"
      ]
    },
    {
      "cell_type": "markdown",
      "metadata": {
        "id": "N7P-cmASvfwf"
      },
      "source": [
        "**Variables** store the values of something so you can reference it later. They are useful when the same value is used so many times in your code that changing each instance by hand would be a pain. To define a variable, simply type\n",
        "```variable_name = variable_value``` (with the actual name and value of the variable). For example, I can create a variable which stores my age:\n",
        "\n",
        "```my_age = 24```\n",
        "\n",
        "Imagine I had typed 24 everywhere in my code to do some math involving my age. What happens on my birthday? Well, I'd have to change every 24 to a 25 in my code. That could get tedious, and I could miss some. Instead, if I defined the variable ```my_age```, I would use that everywhere in the code. Then, when I need to change the value, I only have to edit the definition of ```my_age```. \n",
        "\n",
        "### Booleans\n",
        "A **boolean** is either True (1) or False (0). \n",
        "### Integers\n",
        "An **integer** is any whole number *without* a decimal point (... -2, -1, 0, 1, 2 ...).\n",
        "### Floats\n",
        "**Floats** are numbers *with* a decimal point (3.14, 100.0001, etc.). If a whole number has a decimal point (such as 7.), it's considered a float.\n",
        "\n",
        "You can define numbers in **scientific notation** using ```E``` to represent \"10^\". For example, ```3.00E8``` means 3.00*(10^8).\n",
        "### Strings\n",
        "**Strings** are collections of characters surrounded by single or double quotation marks ('Hello!', \"1234\", \"etc.\"). \n",
        "To include quotation marks or apostrophes *inside* a string, use a ```\\``` in front of them. For example, \"I said \"Let's read Feynman's lectures\"\" can be written as\n",
        "\n",
        "```my_string = \"I said \\\"Let\\'s read Feynman\\'s lectures\\\"\"```\n"
      ]
    },
    {
      "cell_type": "markdown",
      "metadata": {
        "id": "tHMY5zNDdQw7"
      },
      "source": [
        "## **Task 1.2.1**\n",
        "Create and print the following variables:\n",
        "* The integer $2024$\n",
        "* The float $6.7 \\times 10^{-11}$\n",
        "* The string \"Hello there!\"\n",
        "\n",
        "**Note:** If your variable name turns green, that means it's already a word in Python. So, instead of naming your float \"float,\" call it something like \"my_float.\""
      ]
    },
    {
      "cell_type": "code",
      "execution_count": null,
      "metadata": {
        "id": "JHDU4QhPdgFR"
      },
      "outputs": [],
      "source": [
        "# YOUR CODE HERE"
      ]
    },
    {
      "cell_type": "markdown",
      "metadata": {
        "id": "z3s5BH4ZvlPY"
      },
      "source": [
        "# **Data Structures**"
      ]
    },
    {
      "cell_type": "markdown",
      "metadata": {
        "id": "IGl1As2Ges6A"
      },
      "source": [
        "While variables can only store one value each, **data structures** can store many values at once. Here are a few of the most common data structures used in Python.\n",
        "### Lists\n",
        "A **list** is a set of values, such as numbers or strings. Define a list by listing elements separated by commas inside of square brackets. That is, to create a list called \"my_list\" with the elements 1, 2, 3, and 4, you would type the following:\n",
        "\n",
        "```my_list = [1, 2, 3, 4]```\n",
        "\n",
        "#### List Elements\n",
        "Individual elements in the list are given by ```list_name[index]```, where the index is the location of the element in the list. Python uses *zero-based indexing*, so the first element is actually element 0. \n",
        "\n",
        "```first_number = my_list[0]```\n",
        "\n",
        "#### Tuples\n",
        "You may encounter a similar-looking data structure called a **tuple**. Tuples are like lists, but they are enclosed by parentheses and are **immutable**. \n",
        "\n",
        "```my_tuple = (1, 2, 3, 4)```\n",
        "\n",
        "```my_tuple_element = my_tuple[0]```"
      ]
    },
    {
      "cell_type": "markdown",
      "metadata": {
        "id": "vFB2QOUkfCvN"
      },
      "source": [
        "## **Task 1.2.2**\n",
        "* Create a list of integers with 4 elements\n",
        "* Create a list of strings with 2 elements\n",
        "* Print the second element of each list\n",
        "\n"
      ]
    },
    {
      "cell_type": "code",
      "execution_count": null,
      "metadata": {
        "id": "ZgPBpphgfUYZ"
      },
      "outputs": [],
      "source": [
        "# YOUR CODE HERE"
      ]
    },
    {
      "cell_type": "markdown",
      "metadata": {
        "id": "R1vfRX6KfZcC"
      },
      "source": [
        "### Arrays\n",
        "An **array** is a matrix. You define an array in Python by making a *list of lists*. For example, if you want to make the following 3x4 matrix with consecutive elements\n",
        "\n",
        "$$\\begin{pmatrix} 1 & 2 & 3 & 4 \\\\ 5 & 6 & 7 & 8 \\\\ 9 & 10 & 11 & 12 \\end{pmatrix}$$\n",
        "\n",
        "you would need to create a list whose elements are the rows of the matrix:\n",
        "\n",
        "```my_array = [[1,2,3,4],[5,6,7,8],[9,10,11,12]]```\n",
        "\n",
        "#### Array Elements\n",
        "Referencing an element in an array is similar to referencing an element in a list, just with two indices. \n",
        "\n",
        "```my_array[i][j]``` references an element in row *i* and column *j* of ```my_array```."
      ]
    },
    {
      "cell_type": "markdown",
      "metadata": {
        "id": "LTCDkmpafd-h"
      },
      "source": [
        "## **Task 1.2.3**\n",
        "* Make a $2\\times 3$ array\n",
        "* Print the first element of the second row\n",
        "\n"
      ]
    },
    {
      "cell_type": "code",
      "execution_count": null,
      "metadata": {
        "id": "JgHQ6c8efp5o"
      },
      "outputs": [],
      "source": [
        "# YOUR CODE HERE"
      ]
    },
    {
      "cell_type": "markdown",
      "metadata": {
        "id": "GY_5Txpnf0rW"
      },
      "source": [
        "### Dictionaries\n",
        "A **dictionary** in Python is a data structure which stores a set of important objects, called **keys**, and their associated **values**. To understand what this means, consider an actual dictionary. It contains words, and each word has associated definitions. In this case, the words themselves are the keys, and the definitions are the values. A Python dictionary consists of a list of ```key:value``` pairs inside of curly braces:\n",
        "\n",
        "```my_dictionary = {'Year':2024, 'Location':'Green Bank', 'Count':[1,2,3]}```\n",
        "\n",
        "*Note:* Keys should be strings or integers. Values can be any data structure or variable, even another dictionary!\n",
        "\n",
        "#### Dictionary Elements\n",
        "```dictionary_name[key]``` finds the value(s) associated with a known key in the dictionary. \n",
        "\n",
        "For example, ```my_dictionary['Location']``` will give you ```'Green Bank'```."
      ]
    },
    {
      "cell_type": "markdown",
      "metadata": {
        "id": "wbWOJqrrgAer"
      },
      "source": [
        "## **Task 1.2.4**\n",
        "In the dictionary below, the value for the key 'Count' is a list. \n",
        "* Print the last element of that list."
      ]
    },
    {
      "cell_type": "code",
      "execution_count": null,
      "metadata": {
        "id": "Dxlau3pjf98q"
      },
      "outputs": [],
      "source": [
        "my_dictionary = {'Year':2022, 'Location':'Green Bank', 'Count':[1,2,3]}\n",
        "# YOUR CODE HERE"
      ]
    },
    {
      "cell_type": "markdown",
      "metadata": {
        "id": "_5KYnJPSgU8I"
      },
      "source": [
        "## Determining Variable Types\n",
        "If you cannot determine a variable's type, put the variable's name inside of the parentheses of ```type()``` and print the value."
      ]
    },
    {
      "cell_type": "markdown",
      "metadata": {
        "id": "RP2KRT6TgdhE"
      },
      "source": [
        "## **Task 1.2.5**\n",
        "* Determine what type of variable \"test_variable\" is\n",
        "* Print the result"
      ]
    },
    {
      "cell_type": "code",
      "execution_count": null,
      "metadata": {
        "id": "FZ3nFrlCgRVT"
      },
      "outputs": [],
      "source": [
        "test_variable = \"1234.56\"\n",
        "# YOUR CODE HERE"
      ]
    }
  ],
  "metadata": {
    "colab": {
      "collapsed_sections": [
        "DwFYG_J2vRR_",
        "z3s5BH4ZvlPY"
      ],
      "name": "1_2_data_structures.ipynb",
      "provenance": []
    },
    "kernelspec": {
      "display_name": "Python 3",
      "name": "python3"
    },
    "language_info": {
      "name": "python"
    }
  },
  "nbformat": 4,
  "nbformat_minor": 0
}
