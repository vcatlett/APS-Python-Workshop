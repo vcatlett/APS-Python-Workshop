{
  "cells": [
    {
      "cell_type": "markdown",
      "metadata": {
        "id": "IvAgg7cjwrVM"
      },
      "source": [
        "# **APS Python Workshop (Part 1)**\n",
        "# **Section 5: Libraries**\n",
        "# Hosted by Victoria Catlett"
      ]
    },
    {
      "cell_type": "markdown",
      "metadata": {
        "id": "OWixr6Dswxnb"
      },
      "source": [
        "# **Importing Libraries**"
      ]
    },
    {
      "cell_type": "markdown",
      "metadata": {
        "id": "Ob9ZdrQUJJ9V"
      },
      "source": [
        "## Installing Packages\n",
        "Thankfully, Python has been around long enough that most people have done the hard work for us. Most functions already exist and are packaged nicely in libraries or packages for anyone to use. Libraries and packages are not exactly the same thing, but for this purpose, I will use the terms interchangeably. \n",
        "\n",
        "Many of the common ones are included if you install Python via Anaconda. If you need a library/package and it's not already on your computer, it should be easy to install. \n",
        "\n",
        "The preferred installer program, called \"pip,\" should install along with Python. You can use this to download packages you need by typing\n",
        "\n",
        "```pip install package_name``` \n",
        "\n",
        "in your terminal. **However, since we are using Google Colab, we do not need to do this.**\n",
        "\n",
        "## Using Packages\n",
        "Once you have a package on your computer, you must load it at the top of your code. The simplest way to do this is ```import package_name```\n",
        "\n",
        "Now, you can use any function in that package by typing ```package_name.function_name ```.\n",
        "\n",
        "Sometimes, the package name is really long, which would be a pain to type over and over. In that case, you can refer to it by a shorter name by importing the package with ```import package_name as short_name```.\n",
        "\n",
        "If you know exactly which functions you want, you can import individual functions using ```from package_name import function_name```, or you can import *everything* using ```from package_name import *```."
      ]
    },
    {
      "cell_type": "code",
      "execution_count": null,
      "metadata": {
        "id": "ferdvDaKwwbL"
      },
      "outputs": [],
      "source": [
        "import numpy as np\n",
        "import matplotlib.pyplot as plt\n",
        "from scipy.stats import norm"
      ]
    },
    {
      "cell_type": "markdown",
      "metadata": {
        "id": "wCXmFFU2Jg_j"
      },
      "source": [
        "# **NumPy**"
      ]
    },
    {
      "cell_type": "markdown",
      "metadata": {
        "id": "_nilqQH2KB96"
      },
      "source": [
        "**NumPy** stands for Numerical Python. It can compute almost any mathematical function you can think of, and it is highly optimized so that its functions run quickly. It also contains a lot of constants, such as $\\pi$! [Here](https://docs.scipy.org/doc/numpy-1.13.0/reference/routines.math.html) is a list of some of its capabilities."
      ]
    },
    {
      "cell_type": "code",
      "execution_count": null,
      "metadata": {
        "colab": {
          "base_uri": "https://localhost:8080/"
        },
        "id": "DCs76_pHKGIK",
        "outputId": "3667e811-7e77-4099-cdad-e2b107c62da1"
      },
      "outputs": [],
      "source": [
        "print(np.sin(0), np.sin(np.pi))"
      ]
    },
    {
      "cell_type": "markdown",
      "metadata": {
        "id": "KOc2jMHeKOKT"
      },
      "source": [
        "That's odd. $sin(\\pi)=0$, but this says otherwise. Any guesses as to why?"
      ]
    },
    {
      "cell_type": "markdown",
      "metadata": {
        "id": "sAz-VVQ_w075"
      },
      "source": [
        "# **Matplotlib**"
      ]
    },
    {
      "cell_type": "markdown",
      "metadata": {
        "id": "NuDURqBBJ5PO"
      },
      "source": [
        "**Matplotlib** can create many different types of plots. Many of the super useful functions are located in **matplotlib.pyplot**, such as the ```figure()``` function, which generates a blank figure for you to plot on, and the ```plot()``` function which does the plotting on the figure.\n",
        "\n",
        "The ```scatter()``` function works well for discrete points. By default, it plots x and y points as blue circles. However, you can specify **key word arguments (kwargs)** inside of the function call to manipulate things like the color and style of the points. Kwargs go after all of the inputs which the function requires. A full list of accepted kwargs for this function can be found in its [documentation](https://matplotlib.org/3.1.1/api/_as_gen/matplotlib.pyplot.scatter.html). The example below will make a scatter plot by specifying kwargs for the color and shape of points. "
      ]
    },
    {
      "cell_type": "code",
      "execution_count": null,
      "metadata": {
        "colab": {
          "base_uri": "https://localhost:8080/",
          "height": 312
        },
        "id": "sDh8HlxOw5f3",
        "outputId": "4a514336-5c7f-417b-ed49-f82f0d86e3f3"
      },
      "outputs": [],
      "source": [
        "sample_x = [1, 2, 3, 4, 5]\n",
        "sample_y = [1, 4, 9, 16, 25]\n",
        "\n",
        "# Plotting sample_x vs sample_y as red triangles\n",
        "# \"label = \" sets a label for the legend\n",
        "plt.scatter(sample_x, sample_y, color = 'red', marker = 'v', label='My data')\n",
        "\n",
        "# Add x- and y-axis labels\n",
        "plt.xlabel('The x axis')\n",
        "plt.ylabel('The y axis')\n",
        "\n",
        "# Add a title\n",
        "plt.title('The Title')\n",
        "\n",
        "# Add a legend\n",
        "plt.legend()"
      ]
    },
    {
      "cell_type": "markdown",
      "metadata": {
        "id": "YXWnyCtuJtuF"
      },
      "source": [
        "# **SciPy**"
      ]
    },
    {
      "cell_type": "markdown",
      "metadata": {
        "id": "KPFVfEskJwci"
      },
      "source": [
        "**SciPy** stands for Scientific Python. It is similar to NumPy, but it has more functions which are directly related to scientific applications, such as Fourier Transforms and ODE solvers. It also contains a lot of scientific constants in **scipy.constants**. \n",
        "\n",
        "In this example, we'll use the function ```scipy.stats.norm.pdf``` to make a Gaussian distribution with our own $\\mu$ and $\\sigma$. "
      ]
    },
    {
      "cell_type": "code",
      "execution_count": null,
      "metadata": {
        "colab": {
          "base_uri": "https://localhost:8080/",
          "height": 300
        },
        "id": "BF1CTRklxkS6",
        "outputId": "1ad58e92-c0b1-40c7-cf1e-97b87c5ebdca"
      },
      "outputs": [],
      "source": [
        "mu = 1\n",
        "sigma = 2\n",
        "\n",
        "# Create 100 equally-spaced numbers between -5 and 5\n",
        "x = np.linspace(-5,5,100)\n",
        "\n",
        "# Evaluate a Gaussian at those 100 x values\n",
        "y = norm.pdf(x,mu,sigma)\n",
        "\n",
        "# Plot the resulting Gaussian\n",
        "plt.plot(x,y)\n",
        "\n",
        "# Add a title with math symbols\n",
        "plt.title(r'Gaussian with $\\mu$ = %i and $\\sigma$ = %i'%(mu,sigma))"
      ]
    },
    {
      "cell_type": "code",
      "execution_count": null,
      "metadata": {
        "id": "TERRMUQUKgmc"
      },
      "outputs": [],
      "source": []
    }
  ],
  "metadata": {
    "colab": {
      "collapsed_sections": [],
      "name": "1_5_libraries.ipynb",
      "provenance": []
    },
    "kernelspec": {
      "display_name": "Python 3",
      "name": "python3"
    },
    "language_info": {
      "name": "python"
    }
  },
  "nbformat": 4,
  "nbformat_minor": 0
}
