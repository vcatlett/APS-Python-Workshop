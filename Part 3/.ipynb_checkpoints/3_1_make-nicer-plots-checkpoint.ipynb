{
 "cells": [
  {
   "cell_type": "code",
   "execution_count": null,
   "metadata": {
    "executionInfo": {
     "elapsed": 168,
     "status": "ok",
     "timestamp": 1659629675096,
     "user": {
      "displayName": "Victoria Catlett",
      "userId": "05861347801467453085"
     },
     "user_tz": 240
    },
    "id": "38q-k--ngil1"
   },
   "outputs": [],
   "source": [
    "# Import the packages you need\n",
    "import numpy as np\n",
    "import matplotlib.pyplot as plt\n",
    "%matplotlib inline\n",
    "\n",
    "# This is to make sure we undo a change I do later (just in case)\n",
    "plt.rcParams.update({'font.family':'sans-serif', 'font.size':12})"
   ]
  },
  {
   "cell_type": "code",
   "execution_count": null,
   "metadata": {
    "colab": {
     "base_uri": "https://localhost:8080/"
    },
    "executionInfo": {
     "elapsed": 148,
     "status": "ok",
     "timestamp": 1659629676625,
     "user": {
      "displayName": "Victoria Catlett",
      "userId": "05861347801467453085"
     },
     "user_tz": 240
    },
    "id": "NXixdqV1gv3z",
    "outputId": "7d7d892b-5987-43c8-e051-1e5b4f92a3aa"
   },
   "outputs": [],
   "source": [
    "# Let's generate some sample data\n",
    "# Data Set 0\n",
    "xs_0 = np.linspace(0,100,10)\n",
    "ys_0 = [x**2 for x in xs_0]\n",
    "x_errors_0 = np.transpose([[np.random.rand(1)[0]*x*0.25 for i in range(2)] for x in xs_0])\n",
    "y_errors_0 = np.transpose([[np.random.rand(1)[0]*y*0.25 for i in range(2)] for y in ys_0])\n",
    "\n",
    "# Data Set 1\n",
    "xs_1 = np.linspace(0,100,12)\n",
    "ys_1 = [2*x**2 - x for x in xs_1]\n",
    "x_errors_1 = np.transpose([[np.random.rand(1)[0]*x*0.25 for i in range(2)] for x in xs_1])\n",
    "y_errors_1 = np.transpose([[np.random.rand(1)[0]*y*0.25 for i in range(2)] for y in ys_1])\n",
    "\n",
    "# What shape should the error data have?\n",
    "np.shape(x_errors_0)"
   ]
  },
  {
   "cell_type": "code",
   "execution_count": null,
   "metadata": {
    "colab": {
     "base_uri": "https://localhost:8080/",
     "height": 285
    },
    "executionInfo": {
     "elapsed": 337,
     "status": "ok",
     "timestamp": 1659629677860,
     "user": {
      "displayName": "Victoria Catlett",
      "userId": "05861347801467453085"
     },
     "user_tz": 240
    },
    "id": "HFTToweqhZvz",
    "outputId": "2f5f1f7e-0af0-4af6-8d79-bac10d2b7540"
   },
   "outputs": [],
   "source": [
    "# Plot the scatterplot with errors\n",
    "plt.figure()\n",
    "plt.errorbar(xs_0, ys_0, xerr=x_errors_0, yerr=y_errors_0)\n",
    "plt.errorbar(xs_1, ys_1, xerr=x_errors_1, yerr=y_errors_1)\n",
    "plt.show()"
   ]
  },
  {
   "cell_type": "code",
   "execution_count": null,
   "metadata": {
    "colab": {
     "base_uri": "https://localhost:8080/",
     "height": 285
    },
    "executionInfo": {
     "elapsed": 368,
     "status": "ok",
     "timestamp": 1659629681152,
     "user": {
      "displayName": "Victoria Catlett",
      "userId": "05861347801467453085"
     },
     "user_tz": 240
    },
    "id": "fSvAhfWuh7fG",
    "outputId": "457a3e10-c8d1-4574-e084-9c1fb9519033"
   },
   "outputs": [],
   "source": [
    "# That's kinda ugly. Let's try again with some kwargs (key word arguments)\n",
    "# which you can find here: https://matplotlib.org/stable/api/_as_gen/matplotlib.pyplot.errorbar.html\n",
    "plt.figure()\n",
    "plt.errorbar(xs_0, ys_0, xerr=x_errors_0, yerr=y_errors_0, color='red', marker='o', ls='')\n",
    "plt.errorbar(xs_1, ys_1, xerr=x_errors_1, yerr=y_errors_1, color='blue', marker='v', ls='')\n",
    "plt.show()\n",
    "# What did we change here? Why does it matter?"
   ]
  },
  {
   "cell_type": "code",
   "execution_count": null,
   "metadata": {
    "colab": {
     "base_uri": "https://localhost:8080/",
     "height": 319
    },
    "executionInfo": {
     "elapsed": 486,
     "status": "ok",
     "timestamp": 1659629687825,
     "user": {
      "displayName": "Victoria Catlett",
      "userId": "05861347801467453085"
     },
     "user_tz": 240
    },
    "id": "bFlZHZwkjs-6",
    "outputId": "ee9e7663-147f-4685-e208-99868ccfa3fa"
   },
   "outputs": [],
   "source": [
    "# Now, let's add some labels\n",
    "plt.figure()\n",
    "plt.errorbar(xs_0, ys_0, xerr=x_errors_0, yerr=y_errors_0, color='red', marker='o', ls='', label='Data 0')\n",
    "plt.errorbar(xs_1, ys_1, xerr=x_errors_1, yerr=y_errors_1, color='blue', marker='v', ls='', label='Data 1')\n",
    "plt.legend(loc='upper left')\n",
    "plt.xlabel('Data x values (x unit)')\n",
    "plt.ylabel('Data y values (y unit)')\n",
    "plt.title('Descriptive Title')\n",
    "plt.show()\n",
    "# What did we change here? Why does it matter?"
   ]
  },
  {
   "cell_type": "code",
   "execution_count": null,
   "metadata": {
    "colab": {
     "base_uri": "https://localhost:8080/",
     "height": 334
    },
    "executionInfo": {
     "elapsed": 601,
     "status": "ok",
     "timestamp": 1659629691724,
     "user": {
      "displayName": "Victoria Catlett",
      "userId": "05861347801467453085"
     },
     "user_tz": 240
    },
    "id": "812UR_CxkjrZ",
    "outputId": "2a03f3ad-7820-49b4-8cd7-6f68a65c3758"
   },
   "outputs": [],
   "source": [
    "# Let's change the text defaults\n",
    "plt.rcParams.update({'font.family':'serif', 'font.size':16})\n",
    "\n",
    "# Notice how nothing changed in this part of the code\n",
    "plt.figure()\n",
    "plt.errorbar(xs_0, ys_0, xerr=x_errors_0, yerr=y_errors_0, color='red', marker='o', ls='', label='Data 0')\n",
    "plt.errorbar(xs_1, ys_1, xerr=x_errors_1, yerr=y_errors_1, color='blue', marker='v', ls='', label='Data 1')\n",
    "plt.legend(loc='upper left')\n",
    "plt.xlabel('Data x values (x unit)', fontsize=18)\n",
    "plt.ylabel('Data y values (y unit)', fontsize=18)\n",
    "plt.title('Descriptive Title', fontsize=24)\n",
    "plt.show()\n",
    "# What did we change here? Why does it matter?"
   ]
  },
  {
   "cell_type": "code",
   "execution_count": null,
   "metadata": {
    "id": "0ozKgrdcljkU"
   },
   "outputs": [],
   "source": [
    "# What if I want the date on separate plots?\n",
    "fig, ax = plt.subplots(nrows=1, ncols=2, sharex=True, sharey=True, figsize=(12, 4))\n",
    "\n",
    "cax = ax[0]\n",
    "cax.errorbar(xs_0, ys_0, xerr=x_errors_0, yerr=y_errors_0, color='red', marker='o', ls='', label='Data 0')\n",
    "cax.legend(loc='upper left')\n",
    "cax.set_xlabel('Data x values (x unit)', fontsize=14)\n",
    "cax.set_ylabel('Data y values (y unit)', fontsize=14)\n",
    "\n",
    "cax = ax[1]\n",
    "cax.errorbar(xs_1, ys_1, xerr=x_errors_1, yerr=y_errors_1, color='blue', marker='v', ls='', label='Data 1')\n",
    "cax.legend(loc='upper left')\n",
    "cax.set_xlabel('Data x values (x unit)', fontsize=14)\n",
    "cax.set_ylabel('Data y values (y unit)', fontsize=14)\n",
    "\n",
    "# How can I add subplot titles?\n",
    "# How can I add an overall title?\n",
    "plt.show()"
   ]
  },
  {
   "cell_type": "code",
   "execution_count": null,
   "metadata": {},
   "outputs": [],
   "source": []
  }
 ],
 "metadata": {
  "colab": {
   "authorship_tag": "ABX9TyNR73Hi+/ua1XIaHRMuIVqo",
   "name": "make-nicer-plots.ipynb",
   "provenance": []
  },
  "kernelspec": {
   "display_name": "Python 3 (ipykernel)",
   "language": "python",
   "name": "python3"
  },
  "language_info": {
   "codemirror_mode": {
    "name": "ipython",
    "version": 3
   },
   "file_extension": ".py",
   "mimetype": "text/x-python",
   "name": "python",
   "nbconvert_exporter": "python",
   "pygments_lexer": "ipython3",
   "version": "3.7.11"
  }
 },
 "nbformat": 4,
 "nbformat_minor": 1
}
