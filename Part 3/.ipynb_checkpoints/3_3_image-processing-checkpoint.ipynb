{
 "cells": [
  {
   "cell_type": "code",
   "execution_count": null,
   "metadata": {
    "executionInfo": {
     "elapsed": 1614,
     "status": "ok",
     "timestamp": 1659625733008,
     "user": {
      "displayName": "Victoria Catlett",
      "userId": "05861347801467453085"
     },
     "user_tz": 240
    },
    "id": "z4P5zcUw9CRr"
   },
   "outputs": [],
   "source": [
    "# Import all the packages you need\n",
    "import numpy as np\n",
    "import matplotlib.pyplot as plt\n",
    "import PIL, urllib\n",
    "import skimage\n",
    "from skimage.color import rgb2gray\n",
    "from skimage import data\n",
    "from skimage.filters import gaussian\n",
    "from skimage.segmentation import active_contour\n",
    "%matplotlib inline"
   ]
  },
  {
   "cell_type": "code",
   "execution_count": null,
   "metadata": {
    "executionInfo": {
     "elapsed": 1102,
     "status": "ok",
     "timestamp": 1659627277759,
     "user": {
      "displayName": "Victoria Catlett",
      "userId": "05861347801467453085"
     },
     "user_tz": 240
    },
    "id": "RTqrpoqr9oCy"
   },
   "outputs": [],
   "source": [
    "# Load the image from a website\n",
    "# Southern Ring Nebula\n",
    "# img_url = 'https://live.staticflickr.com/65535/52212049510_73fbea9957_b.jpg'\n",
    "# Carina Nebula\n",
    "# img_url = 'https://www.nasa.gov/sites/default/files/styles/full_width_feature/public/thumbnails/image/main_image_star-forming_region_carina_nircam_final-5mb.jpg'\n",
    "# Cartwheel Galaxy\n",
    "img_url = 'https://www.nasa.gov/sites/default/files/styles/full_width/public/thumbnails/image/stsci-01g8jzq6gwxhex15pyy60wdrsk.png?itok=1gQYAKHT'\n",
    "\n",
    "# Load the image from the URL\n",
    "img_url_load = PIL.Image.open(urllib.request.urlopen(img_url))\n",
    "img_raw = img_url_load.getdata()\n",
    "\n",
    "# Reshape the image\n",
    "img_full = np.asarray(img_raw).reshape((img_raw.size[1], img_raw.size[0], 3))\n",
    "\n",
    "# PICK ONE:\n",
    "# (1) Make it grayscale\n",
    "img = rgb2gray(img_full)\n",
    "\n",
    "# (2) Pick a color channel\n",
    "# red\n",
    "# img = img_full[:,:,0]\n",
    "# green\n",
    "# img = img_full[:,:,1]\n",
    "# blue\n",
    "# img = img_full[:,:,2]"
   ]
  },
  {
   "cell_type": "code",
   "execution_count": null,
   "metadata": {
    "colab": {
     "base_uri": "https://localhost:8080/",
     "height": 394
    },
    "executionInfo": {
     "elapsed": 497,
     "status": "ok",
     "timestamp": 1659627278443,
     "user": {
      "displayName": "Victoria Catlett",
      "userId": "05861347801467453085"
     },
     "user_tz": 240
    },
    "id": "jIvvHfAO9KmQ",
    "outputId": "04f650c6-dc43-48b8-cdd9-3c9410488e75"
   },
   "outputs": [],
   "source": [
    "# Plot the image\n",
    "fig, ax = plt.subplots(figsize=(7, 7))\n",
    "ax.imshow(img, cmap=plt.cm.gray)\n",
    "ax.set_xticks([]), ax.set_yticks([])\n",
    "ax.axis([0, img.shape[1], img.shape[0], 0])\n",
    "\n",
    "plt.show()"
   ]
  },
  {
   "cell_type": "code",
   "execution_count": null,
   "metadata": {
    "colab": {
     "base_uri": "https://localhost:8080/",
     "height": 667
    },
    "executionInfo": {
     "elapsed": 1445,
     "status": "ok",
     "timestamp": 1659627281578,
     "user": {
      "displayName": "Victoria Catlett",
      "userId": "05861347801467453085"
     },
     "user_tz": 240
    },
    "id": "4INTrTLw9WdV",
    "outputId": "471d6336-2d33-4675-8b7b-a8b7905a2072"
   },
   "outputs": [],
   "source": [
    "# Make the image smoother so edges are less noisy\n",
    "# Higher sigma means a smoother image\n",
    "image_gauss = skimage.filters.gaussian(img, sigma=50)\n",
    "\n",
    "# Set the threshold for the edge detection based on the distribution of pixel values\n",
    "image_th = skimage.filters.threshold_otsu(image_gauss)\n",
    "\n",
    "# Find the edge contour!\n",
    "contour = skimage.measure.find_contours(image_gauss>image_th, level = 0.5)\n",
    "\n",
    "# Plot the selected regions on the image\n",
    "fig, ax = plt.subplots(2,1, figsize = (10,10))\n",
    "ax[0].imshow(img, cmap = 'gray')\n",
    "ax[0].imshow(image_gauss>image_th, alpha = 0.5, cmap = 'Reds')\n",
    "\n",
    "# Plot the two main edge contours on the image\n",
    "ax[1].imshow(img, cmap = 'gray')\n",
    "print(np.shape(contour))\n",
    "for i in range(len(contour)):\n",
    "  ax[1].plot(contour[0][:,1],contour[0][:,0],'-r', linewidth = 5)\n",
    "  ax[1].plot(contour[1][:,1],contour[1][:,0],'-r', linewidth = 5)"
   ]
  },
  {
   "cell_type": "code",
   "execution_count": null,
   "metadata": {
    "id": "IN4UCdECAJOb"
   },
   "outputs": [],
   "source": []
  }
 ],
 "metadata": {
  "colab": {
   "authorship_tag": "ABX9TyOrHzuLZxwDMBRKyQ/XcDtS",
   "collapsed_sections": [],
   "name": "image-processing.ipynb",
   "provenance": []
  },
  "kernelspec": {
   "display_name": "Python 3 (ipykernel)",
   "language": "python",
   "name": "python3"
  },
  "language_info": {
   "codemirror_mode": {
    "name": "ipython",
    "version": 3
   },
   "file_extension": ".py",
   "mimetype": "text/x-python",
   "name": "python",
   "nbconvert_exporter": "python",
   "pygments_lexer": "ipython3",
   "version": "3.7.11"
  }
 },
 "nbformat": 4,
 "nbformat_minor": 1
}
